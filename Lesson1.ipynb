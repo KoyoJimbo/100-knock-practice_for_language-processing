{
 "cells": [
  {
   "cell_type": "markdown",
   "metadata": {},
   "source": [
    "# Lesson1"
   ]
  },
  {
   "cell_type": "code",
   "execution_count": 25,
   "metadata": {},
   "outputs": [
    {
     "name": "stdout",
     "output_type": "stream",
     "text": [
      "desserts\n"
     ]
    }
   ],
   "source": [
    "#Lesson1\n",
    "#00\n",
    "st = 'stressed'\n",
    "st_re = st[::-1]\n",
    "print(st_re)"
   ]
  },
  {
   "cell_type": "code",
   "execution_count": 26,
   "metadata": {},
   "outputs": [
    {
     "name": "stdout",
     "output_type": "stream",
     "text": [
      "パトカー\n"
     ]
    }
   ],
   "source": [
    "#01\n",
    "a = 'パタトクカーー'\n",
    "b = a[0:1] + a[2:3] + a[4:5] + a[6:7]\n",
    "print(b)"
   ]
  },
  {
   "cell_type": "code",
   "execution_count": 27,
   "metadata": {},
   "outputs": [
    {
     "name": "stdout",
     "output_type": "stream",
     "text": [
      "パタトクカシーー\n"
     ]
    }
   ],
   "source": [
    "#02\n",
    "c = 'パトカー'\n",
    "d = 'タクシー'\n",
    "e = ''.join([c[i:i + 1]+d[i:i + 1] for i in range(4)])\n",
    "print(e)\n"
   ]
  },
  {
   "cell_type": "code",
   "execution_count": 28,
   "metadata": {},
   "outputs": [
    {
     "name": "stdout",
     "output_type": "stream",
     "text": [
      "Took off '.' ->  Now I need a drink, alcoholic of course, after the heavy lectures involving quantum mechanics\n",
      "[3, 1, 4, 1, 6, 9, 2, 7, 5, 3, 5, 8, 9, 7, 9]\n"
     ]
    }
   ],
   "source": [
    "#03\n",
    "f = 'Now I need a drink, alcoholic of course, after the heavy lectures involving quantum mechanics.'\n",
    "i = 0\n",
    "f_rs = f.replace('.','')\n",
    "print(\"Took off '.' ->  \" + str(f_rs))\n",
    "f_sp = f_rs.split() \n",
    "g = [len(i) for i in f_sp] \n",
    "print(g)"
   ]
  },
  {
   "cell_type": "code",
   "execution_count": 29,
   "metadata": {},
   "outputs": [
    {
     "name": "stdout",
     "output_type": "stream",
     "text": [
      "{'H': 1, 'He': 2, 'Li': 3, 'Be': 4, 'B': 5, 'C': 6, 'N': 7, 'O': 8, 'F': 9, 'Ne': 10, 'Na': 11, 'Mi': 12, 'Al': 13, 'Si': 14, 'P': 15, 'S': 16, 'Cl': 17, 'Ar': 18, 'K': 19, 'Ca': 20}\n"
     ]
    }
   ],
   "source": [
    "#04\n",
    "j = 0\n",
    "k = {}\n",
    "h = \"Hi He Lied Because Boron Could Not Oxidize Fluorine. New Nations Might Also Sign Peace Security Clause. Arthur King Can.\"\n",
    "\n",
    "h_rs = h.replace('.','')\n",
    "\n",
    "h_sp = h_rs.split()\n",
    "\n",
    "for i in h_sp:\n",
    "    j += 1\n",
    "    if(j == 1  or \n",
    "       j == 5  or \n",
    "       j == 6  or \n",
    "       j == 7  or\n",
    "       j == 8  or \n",
    "       j == 9  or\n",
    "       j == 15 or \n",
    "       j == 16 or\n",
    "       j == 19):\n",
    "        k.update({i[0] : j})\n",
    "    else:\n",
    "        k.update({i[0 : 2] : j})\n",
    "print(k)"
   ]
  },
  {
   "cell_type": "code",
   "execution_count": 30,
   "metadata": {},
   "outputs": [
    {
     "name": "stdout",
     "output_type": "stream",
     "text": [
      "[['Love', 'the', 'life'], ['the', 'life', 'you'], ['life', 'you', 'live'], ['you', 'live', 'Live'], ['live', 'Live', 'the'], ['Live', 'the', 'life'], ['the', 'life', 'you'], ['life', 'you', 'love']]\n",
      "[['I', 'am'], ['am', 'an'], ['an', 'NLPer']]\n"
     ]
    }
   ],
   "source": [
    "#05\n",
    "def n_gram(x,n):\n",
    "    y = [] \n",
    "    x_rs = x.replace('.','')\n",
    "    x_sp = x_rs.split()\n",
    "    x_len = len(x_sp)\n",
    "    for i in range(x_len - n + 1): \n",
    "        y.append( x_sp[i : i + n ] )\n",
    "    return y\n",
    "\n",
    "\n",
    "l1 = 'Love the life you live. Live the life you love.'    \n",
    "m1 = n_gram(l1 , 3)\n",
    "print(m1)\n",
    "\n",
    "\n",
    "l2 = 'I am an NLPer'\n",
    "m2 = n_gram(l2 , 2)\n",
    "print(m2)"
   ]
  },
  {
   "cell_type": "code",
   "execution_count": 31,
   "metadata": {},
   "outputs": [
    {
     "name": "stdout",
     "output_type": "stream",
     "text": [
      "X = ['pa', 'ar', 'ra', 'ap', 'pa', 'ar', 'ra', 'ap', 'pa', 'ar', 'ra', 'ad', 'di', 'is', 'se']\n",
      "Y = ['pa', 'ar', 'ra', 'ag', 'gr', 'ra', 'ap', 'ph']\n",
      "Uni = {'ra', 'se', 'ar', 'ag', 'ap', 'is', 'ad', 'di', 'pa', 'gr', 'ph'}\n",
      "Int = {'ar', 'ra', 'pa', 'ap'}\n",
      "Dif = {'di', 'is', 'se', 'ad'}\n"
     ]
    }
   ],
   "source": [
    "#06\n",
    "def n_gram_no_space(x,n):\n",
    "    y = [] \n",
    "    x_rs = x.replace('.','')\n",
    "    x_len = len(x_rs)\n",
    "    for i in range(x_len - n + 1): \n",
    "        y.append( x_rs[i : i + n ] )\n",
    "    return y\n",
    "\n",
    "\n",
    "l3 = \"paraparaparadise\"\n",
    "l4 = \"paragraph\"\n",
    "X = n_gram_no_space(l3,2)\n",
    "Y = n_gram_no_space(l4,2)\n",
    "print(\"X = \" + str(X))\n",
    "print(\"Y = \" + str(Y))\n",
    "\n",
    "\n",
    "#Union\n",
    "Uni_X_Y = set(X) | set(Y)\n",
    "\n",
    "#Intersection\n",
    "Int_X_Y = set(X) & set(Y)\n",
    "\n",
    "#Difference\n",
    "Dif_X_Y = set(X) - set(Y)\n",
    "\n",
    "\n",
    "print(\"Uni = \" + str(Uni_X_Y))  \n",
    "print(\"Int = \" + str(Int_X_Y))\n",
    "print(\"Dif = \" + str(Dif_X_Y))"
   ]
  },
  {
   "cell_type": "code",
   "execution_count": 7,
   "metadata": {},
   "outputs": [
    {
     "name": "stdout",
     "output_type": "stream",
     "text": [
      "12時の気温は22.4\n"
     ]
    }
   ],
   "source": [
    "#07\n",
    "def tmp(x,y,z):\n",
    "    tmpl = str(x) + \"時の\" + str(y) + \"は\" + str(z)    \n",
    "    return tmpl\n",
    "\n",
    "\n",
    "print(tmp(12,\"気温\",22.4))"
   ]
  },
  {
   "cell_type": "code",
   "execution_count": null,
   "metadata": {
    "collapsed": true
   },
   "outputs": [],
   "source": [
    "#08\n",
    "def cipher(x)\n",
    "            "
   ]
  },
  {
   "cell_type": "code",
   "execution_count": 3,
   "metadata": {},
   "outputs": [
    {
     "data": {
      "text/plain": [
       "\"I co'ldutnt blieevee that I cdolud aacluytly utednsardnd what I was regndaig the pelanmnoehl prewor of the hunman mind\""
      ]
     },
     "execution_count": 3,
     "metadata": {},
     "output_type": "execute_result"
    }
   ],
   "source": [
    "#09\n",
    "def Typoglycemia(x):\n",
    "    import random\n",
    "    y = [] \n",
    "    x_rep = x.replace('.','').replace(':','')\n",
    "    x_sp = x_rep.split()\n",
    "    for i in x_sp: \n",
    "        i_len = len(i)\n",
    "        if i_len <= 4:\n",
    "            y.append(i) \n",
    "        else:\n",
    "            i_random = [i for i in range(1,i_len)]\n",
    "            random.shuffle(i_random)\n",
    "            y.append(i[0] +''.join([i[j] for j in i_random]) + i[i_len-1])\n",
    "    y = ' '.join(y)\n",
    "    return y\n",
    "\n",
    "ll = \"I couldn't believe that I could actually understand what I was reading : the phenomenal power of the human mind .\"\n",
    "\n",
    "    \n",
    "Typoglycemia(ll)"
   ]
  },
  {
   "cell_type": "code",
   "execution_count": null,
   "metadata": {
    "collapsed": true
   },
   "outputs": [],
   "source": []
  }
 ],
 "metadata": {
  "kernelspec": {
   "display_name": "Python 3",
   "language": "python",
   "name": "python3"
  },
  "language_info": {
   "codemirror_mode": {
    "name": "ipython",
    "version": 3
   },
   "file_extension": ".py",
   "mimetype": "text/x-python",
   "name": "python",
   "nbconvert_exporter": "python",
   "pygments_lexer": "ipython3",
   "version": "3.6.1"
  }
 },
 "nbformat": 4,
 "nbformat_minor": 2
}
