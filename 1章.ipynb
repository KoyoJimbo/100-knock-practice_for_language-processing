{
 "cells": [
  {
   "cell_type": "code",
   "execution_count": 11,
   "metadata": {},
   "outputs": [
    {
     "name": "stdout",
     "output_type": "stream",
     "text": [
      "desserts\n"
     ]
    }
   ],
   "source": [
    "#１章\n",
    "#00\n",
    "st = 'stressed'\n",
    "st_re = st[::-1]\n",
    "print(st_re)"
   ]
  },
  {
   "cell_type": "code",
   "execution_count": 15,
   "metadata": {},
   "outputs": [
    {
     "name": "stdout",
     "output_type": "stream",
     "text": [
      "パトカー\n"
     ]
    }
   ],
   "source": [
    "#01\n",
    "a = 'パタトクカーー'\n",
    "b = a[0:1] + a[2:3] + a[4:5] + a[6:7]\n",
    "print(b)"
   ]
  },
  {
   "cell_type": "code",
   "execution_count": 27,
   "metadata": {},
   "outputs": [
    {
     "name": "stdout",
     "output_type": "stream",
     "text": [
      "パタトクカシーー\n"
     ]
    }
   ],
   "source": [
    "#02\n",
    "c = 'パトカー'\n",
    "d = 'タクシー'\n",
    "e = ''.join([c[i:i+1]+d[i:i+1] for i in range(4)])\n",
    "print(e)\n"
   ]
  },
  {
   "cell_type": "code",
   "execution_count": 58,
   "metadata": {},
   "outputs": [
    {
     "name": "stdout",
     "output_type": "stream",
     "text": [
      "Now I need a drink, alcoholic of course, after the heavy lectures involving quantum mechanics\n",
      "[3, 1, 4, 1, 6, 9, 2, 7, 5, 3, 5, 8, 9, 7, 9]\n"
     ]
    }
   ],
   "source": [
    "#03\n",
    "f = 'Now I need a drink, alcoholic of course, after the heavy lectures involving quantum mechanics.'\n",
    "\n",
    "f_rs = f.rstrip('.')\n",
    "print(f_rs)\n",
    "f_sp = f_rs.split()\n",
    "g = [len(i) for i in f_sp]\n",
    "print(g)"
   ]
  },
  {
   "cell_type": "code",
   "execution_count": null,
   "metadata": {
    "collapsed": true
   },
   "outputs": [],
   "source": []
  }
 ],
 "metadata": {
  "kernelspec": {
   "display_name": "Python 3",
   "language": "python",
   "name": "python3"
  },
  "language_info": {
   "codemirror_mode": {
    "name": "ipython",
    "version": 3
   },
   "file_extension": ".py",
   "mimetype": "text/x-python",
   "name": "python",
   "nbconvert_exporter": "python",
   "pygments_lexer": "ipython3",
   "version": "3.6.1"
  }
 },
 "nbformat": 4,
 "nbformat_minor": 2
}
