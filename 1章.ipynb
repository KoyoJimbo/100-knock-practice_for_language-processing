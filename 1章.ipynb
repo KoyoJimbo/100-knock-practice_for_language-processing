{
 "cells": [
  {
   "cell_type": "markdown",
   "metadata": {},
   "source": [
    "#  1章"
   ]
  },
  {
   "cell_type": "code",
   "execution_count": 87,
   "metadata": {},
   "outputs": [
    {
     "name": "stdout",
     "output_type": "stream",
     "text": [
      "desserts\n"
     ]
    }
   ],
   "source": [
    "#１章\n",
    "#00\n",
    "st = 'stressed'\n",
    "st_re = st[::-1]\n",
    "print(st_re)"
   ]
  },
  {
   "cell_type": "code",
   "execution_count": 88,
   "metadata": {},
   "outputs": [
    {
     "name": "stdout",
     "output_type": "stream",
     "text": [
      "パトカー\n"
     ]
    }
   ],
   "source": [
    "#01\n",
    "a = 'パタトクカーー'\n",
    "b = a[0:1] + a[2:3] + a[4:5] + a[6:7]\n",
    "print(b)"
   ]
  },
  {
   "cell_type": "code",
   "execution_count": 89,
   "metadata": {},
   "outputs": [
    {
     "name": "stdout",
     "output_type": "stream",
     "text": [
      "パタトクカシーー\n"
     ]
    }
   ],
   "source": [
    "#02\n",
    "c = 'パトカー'\n",
    "d = 'タクシー'\n",
    "e = ''.join([c[i:i + 1]+d[i:i + 1] for i in range(4)])\n",
    "print(e)\n"
   ]
  },
  {
   "cell_type": "code",
   "execution_count": 8,
   "metadata": {},
   "outputs": [
    {
     "name": "stdout",
     "output_type": "stream",
     "text": [
      "Now I need a drink, alcoholic of course, after the heavy lectures involving quantum mechanics\n",
      "[3, 1, 4, 1, 6, 9, 2, 7, 5, 3, 5, 8, 9, 7, 9]\n"
     ]
    }
   ],
   "source": [
    "#03\n",
    "f = 'Now I need a drink, alcoholic of course, after the heavy lectures involving quantum mechanics.'\n",
    "i = 0\n",
    "f_rs = f.replace('.','')\n",
    "print(f_rs)\n",
    "f_sp = f_rs.split() \n",
    "g = [len(i) for i in f_sp] \n",
    "print(g)"
   ]
  },
  {
   "cell_type": "code",
   "execution_count": 2,
   "metadata": {},
   "outputs": [
    {
     "name": "stdout",
     "output_type": "stream",
     "text": [
      "Hi He Lied Because Boron Could Not Oxidize Fluorine New Nations Might Also Sign Peace Security Clause Arthur King Can\n",
      "['Hi', 'He', 'Lied', 'Because', 'Boron', 'Could', 'Not', 'Oxidize', 'Fluorine', 'New', 'Nations', 'Might', 'Also', 'Sign', 'Peace', 'Security', 'Clause', 'Arthur', 'King', 'Can']\n",
      "1\n",
      "Hi\n",
      "2\n",
      "3\n",
      "4\n",
      "5\n",
      "Boron\n",
      "6\n",
      "Could\n",
      "7\n",
      "Not\n",
      "8\n",
      "Oxidize\n",
      "9\n",
      "Fluorine\n",
      "10\n",
      "11\n",
      "12\n",
      "13\n",
      "14\n",
      "15\n",
      "Peace\n",
      "16\n",
      "Security\n",
      "17\n",
      "18\n",
      "19\n",
      "King\n",
      "20\n",
      "{'H': 1, 'He': 2, 'Li': 3, 'Be': 4, 'B': 5, 'C': 6, 'N': 7, 'O': 8, 'F': 9, 'Ne': 10, 'Na': 11, 'Mi': 12, 'Al': 13, 'Si': 14, 'P': 15, 'S': 16, 'Cl': 17, 'Ar': 18, 'K': 19, 'Ca': 20}\n"
     ]
    }
   ],
   "source": [
    "#04\n",
    "j = 0\n",
    "k = {}\n",
    "h = \"Hi He Lied Because Boron Could Not Oxidize Fluorine. New Nations Might Also Sign Peace Security Clause. Arthur King Can.\"\n",
    "h_rs = h.replace('.','')\n",
    "print(h_rs)\n",
    "h_sp = h_rs.split()\n",
    "print(h_sp)\n",
    "for i in h_sp:\n",
    "    j += 1\n",
    "    print(j)\n",
    "    if(j == 1  or \n",
    "       j == 5  or \n",
    "       j == 6  or \n",
    "       j == 7  or\n",
    "       j == 8  or \n",
    "       j == 9  or\n",
    "       j == 15 or \n",
    "       j == 16 or\n",
    "       j == 19):\n",
    "        print(i)\n",
    "        k.update({i[0] : j})\n",
    "    else:\n",
    "        k.update({i[0 : 2] : j})\n",
    "print(k)"
   ]
  },
  {
   "cell_type": "code",
   "execution_count": 24,
   "metadata": {},
   "outputs": [
    {
     "name": "stdout",
     "output_type": "stream",
     "text": [
      "[['Hello', 'world', 'I'], ['world', 'I', 'am'], ['I', 'am', 'Koyo'], ['am', 'Koyo', 'Jimbo']]\n",
      "[['I', 'am'], ['am', 'an'], ['an', 'NLPer']]\n"
     ]
    }
   ],
   "source": [
    "#05\n",
    "def n_gram(x,n):\n",
    "    y = [] \n",
    "    x_rs = x.replace('.','')\n",
    "    x_sp = x_rs.split()\n",
    "    x_len = len(x_sp)\n",
    "    for i in range(x_len - n + 1): \n",
    "        y.append( x_sp[i : i + n ] )\n",
    "    return y\n",
    "\n",
    "\n",
    "l1 = 'Hello world. I am Koyo Jimbo.'    \n",
    "m1 = n_gram(l1 , 3)\n",
    "print(m1)\n",
    "\n",
    "\n",
    "l2 = 'I am an NLPer'\n",
    "m2 = n_gram(l2 , 2)\n",
    "print(m2)"
   ]
  },
  {
   "cell_type": "code",
   "execution_count": null,
   "metadata": {
    "collapsed": true
   },
   "outputs": [],
   "source": []
  }
 ],
 "metadata": {
  "kernelspec": {
   "display_name": "Python 3",
   "language": "python",
   "name": "python3"
  },
  "language_info": {
   "codemirror_mode": {
    "name": "ipython",
    "version": 3
   },
   "file_extension": ".py",
   "mimetype": "text/x-python",
   "name": "python",
   "nbconvert_exporter": "python",
   "pygments_lexer": "ipython3",
   "version": "3.6.1"
  }
 },
 "nbformat": 4,
 "nbformat_minor": 2
}
