{
 "cells": [
  {
   "cell_type": "code",
   "execution_count": 11,
   "metadata": {},
   "outputs": [
    {
     "name": "stdout",
     "output_type": "stream",
     "text": [
      "desserts\n"
     ]
    }
   ],
   "source": [
    "#１章\n",
    "#00\n",
    "st = 'stressed'\n",
    "st_re = st[::-1]\n",
    "print(st_re)"
   ]
  },
  {
   "cell_type": "code",
   "execution_count": 15,
   "metadata": {},
   "outputs": [
    {
     "name": "stdout",
     "output_type": "stream",
     "text": [
      "パトカー\n"
     ]
    }
   ],
   "source": [
    "#01\n",
    "a = 'パタトクカーー'\n",
    "b = a[0:1] + a[2:3] + a[4:5] + a[6:7]\n",
    "print(b)"
   ]
  },
  {
   "cell_type": "code",
   "execution_count": 27,
   "metadata": {},
   "outputs": [
    {
     "name": "stdout",
     "output_type": "stream",
     "text": [
      "パタトクカシーー\n"
     ]
    }
   ],
   "source": [
    "#02\n",
    "c = 'パトカー'\n",
    "d = 'タクシー'\n",
    "e = ''.join([c[i:i+1]+d[i:i+1] for i in range(4)])\n",
    "print(e)\n"
   ]
  },
  {
   "cell_type": "code",
   "execution_count": 58,
   "metadata": {},
   "outputs": [
    {
     "name": "stdout",
     "output_type": "stream",
     "text": [
      "Now I need a drink, alcoholic of course, after the heavy lectures involving quantum mechanics\n",
      "[3, 1, 4, 1, 6, 9, 2, 7, 5, 3, 5, 8, 9, 7, 9]\n"
     ]
    }
   ],
   "source": [
    "#03\n",
    "f = 'Now I need a drink, alcoholic of course, after the heavy lectures involving quantum mechanics.'\n",
    "\n",
    "f_rs = f.rstrip('.')\n",
    "print(f_rs)\n",
    "f_sp = f_rs.split()\n",
    "g = [len(i) for i in f_sp]\n",
    "print(g)"
   ]
  },
  {
   "cell_type": "code",
   "execution_count": 85,
   "metadata": {},
   "outputs": [
    {
     "name": "stdout",
     "output_type": "stream",
     "text": [
      "Hi He Lied Because Boron Could Not Oxidize Fluorine. New Nations Might Also Sign Peace Security Clause. Arthur King Can\n",
      "['Hi', 'He', 'Lied', 'Because', 'Boron', 'Could', 'Not', 'Oxidize', 'Fluorine.', 'New', 'Nations', 'Might', 'Also', 'Sign', 'Peace', 'Security', 'Clause.', 'Arthur', 'King', 'Can']\n",
      "1\n",
      "Hi\n",
      "2\n",
      "3\n",
      "4\n",
      "5\n",
      "Boron\n",
      "6\n",
      "Could\n",
      "7\n",
      "Not\n",
      "8\n",
      "Oxidize\n",
      "9\n",
      "Fluorine.\n",
      "10\n",
      "11\n",
      "12\n",
      "13\n",
      "14\n",
      "15\n",
      "Peace\n",
      "16\n",
      "Security\n",
      "17\n",
      "18\n",
      "19\n",
      "King\n",
      "20\n",
      "{'H': 1, 'He': 2, 'Li': 3, 'Be': 4, 'B': 5, 'C': 6, 'N': 7, 'O': 8, 'F': 9, 'Ne': 10, 'Na': 11, 'Mi': 12, 'Al': 13, 'Si': 14, 'P': 15, 'S': 16, 'Cl': 17, 'Ar': 18, 'K': 19, 'Ca': 20}\n"
     ]
    }
   ],
   "source": [
    "#04\n",
    "j = 0\n",
    "k = {}\n",
    "h = \"Hi He Lied Because Boron Could Not Oxidize Fluorine. New Nations Might Also Sign Peace Security Clause. Arthur King Can.\"\n",
    "h_rs = h.rstrip('.')\n",
    "print(h_rs)\n",
    "h_sp = h_rs.split()\n",
    "print(h_sp)\n",
    "for i in h_sp:\n",
    "    j += 1\n",
    "    print(j)\n",
    "    if(j == 1  or \n",
    "       j == 5  or \n",
    "       j == 6  or \n",
    "       j == 7  or\n",
    "       j == 8  or \n",
    "       j == 9  or\n",
    "       j == 15 or \n",
    "       j == 16 or\n",
    "       j == 19):\n",
    "        print(i)\n",
    "        k.update({i[0] : j})\n",
    "    else:\n",
    "        k.update({i[0 : 2] : j})\n",
    "print(k)"
   ]
  },
  {
   "cell_type": "code",
   "execution_count": null,
   "metadata": {
    "collapsed": true
   },
   "outputs": [],
   "source": []
  }
 ],
 "metadata": {
  "kernelspec": {
   "display_name": "Python 3",
   "language": "python",
   "name": "python3"
  },
  "language_info": {
   "codemirror_mode": {
    "name": "ipython",
    "version": 3
   },
   "file_extension": ".py",
   "mimetype": "text/x-python",
   "name": "python",
   "nbconvert_exporter": "python",
   "pygments_lexer": "ipython3",
   "version": "3.6.1"
  }
 },
 "nbformat": 4,
 "nbformat_minor": 2
}
